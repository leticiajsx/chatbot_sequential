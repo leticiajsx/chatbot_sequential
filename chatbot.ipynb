{
  "nbformat": 4,
  "nbformat_minor": 0,
  "metadata": {
    "colab": {
      "provenance": [],
      "mount_file_id": "14Nwrn3Nd6be-DLT0gecX69D57XgOZtfu",
      "authorship_tag": "ABX9TyNCFqCICiF4z8m/joiT8hiR",
      "include_colab_link": true
    },
    "kernelspec": {
      "name": "python3",
      "display_name": "Python 3"
    },
    "language_info": {
      "name": "python"
    }
  },
  "cells": [
    {
      "cell_type": "markdown",
      "metadata": {
        "id": "view-in-github",
        "colab_type": "text"
      },
      "source": [
        "<a href=\"https://colab.research.google.com/github/leticiajsx/chatbot_sequential/blob/main/chatbot.ipynb\" target=\"_parent\"><img src=\"https://colab.research.google.com/assets/colab-badge.svg\" alt=\"Open In Colab\"/></a>"
      ]
    },
    {
      "cell_type": "code",
      "execution_count": 95,
      "metadata": {
        "id": "tpUgPAKTgCxa"
      },
      "outputs": [],
      "source": [
        "# imports\n",
        "import json\n",
        "import pandas as pd\n",
        "import numpy as np \n",
        "import tensorflow as tf\n",
        "from tensorflow import keras\n",
        "from keras.layers import Dense, Embedding, GlobalAveragePooling1D\n",
        "from keras.models import Sequential\n",
        "from keras.preprocessing.text import Tokenizer\n",
        "from keras.utils import pad_sequences\n",
        "from sklearn.preprocessing import LabelEncoder\n",
        "\n",
        "# !pip install colorama\n",
        "import colorama \n",
        "colorama.init()\n",
        "from colorama import Fore, Style, Back\n",
        "\n",
        "import random\n",
        "import pickle"
      ]
    },
    {
      "cell_type": "code",
      "source": [
        "# JSON with bot intents and some categorized responses\n",
        "# saved to a .json file\n",
        "{\n",
        "    \"intents\": [\n",
        "        {\n",
        "            \"tag\": \"greeting\",\n",
        "            \"patterns\": [\n",
        "                \"Hi\",\n",
        "                \"Hey\",\n",
        "                \"Is anyone there?\",\n",
        "                \"Hello\",\n",
        "                \"Hay\"\n",
        "            ],\n",
        "            \"responses\": [\n",
        "                \"Hello\",\n",
        "                \"Hi\",\n",
        "                \"Hi there\"\n",
        "            ]\n",
        "        },\n",
        "        {\n",
        "            \"tag\": \"goodbye\",\n",
        "            \"patterns\": [\n",
        "                \"Bye\",\n",
        "                \"See you later\",\n",
        "                \"Goodbye\"\n",
        "            ],\n",
        "            \"responses\": [\n",
        "                \"See you later\",\n",
        "                \"Have a nice day\",\n",
        "                \"Bye! Come back again\"\n",
        "            ]\n",
        "        },\n",
        "        {\n",
        "            \"tag\": \"thanks\",\n",
        "            \"patterns\": [\n",
        "                \"Thanks\",\n",
        "                \"Thank you\",\n",
        "                \"That's helpful\",\n",
        "                \"Thanks for the help\"\n",
        "            ],\n",
        "            \"responses\": [\n",
        "                \"Happy to help!\",\n",
        "                \"Any time!\",\n",
        "                \"My pleasure\",\n",
        "                \"You're most welcome!\"\n",
        "            ]\n",
        "        },\n",
        "        {\n",
        "            \"tag\": \"about\",\n",
        "            \"patterns\": [\n",
        "                \"Who are you?\",\n",
        "                \"What are you?\",\n",
        "                \"Who you are?\"\n",
        "            ],\n",
        "            \"responses\": [\n",
        "                \"I.m Joana, your bot assistant\",\n",
        "                \"I'm Joana, an Artificial Intelligent bot\"\n",
        "            ]\n",
        "        },\n",
        "        {\n",
        "            \"tag\": \"name\",\n",
        "            \"patterns\": [\n",
        "                \"what is your name\",\n",
        "                \"what should I call you\",\n",
        "                \"whats your name?\"\n",
        "            ],\n",
        "            \"responses\": [\n",
        "                \"You can call me Joana.\",\n",
        "                \"I'm Joana!\",\n",
        "                \"Just call me as Joana\"\n",
        "            ]\n",
        "        },\n",
        "        {\n",
        "            \"tag\": \"help\",\n",
        "            \"patterns\": [\n",
        "                \"Could you help me?\",\n",
        "                \"give me a hand please\",\n",
        "                \"Can you help?\",\n",
        "                \"What can you do for me?\",\n",
        "                \"I need a support\",\n",
        "                \"I need a help\",\n",
        "                \"support me please\"\n",
        "            ],\n",
        "            \"responses\": [\n",
        "                \"Tell me how can assist you\",\n",
        "                \"Tell me your problem to assist you\",\n",
        "                \"Yes Sure, How can I support you\"\n",
        "            ]\n",
        "        },\n",
        "        {\n",
        "            \"tag\": \"createaccount\",\n",
        "            \"patterns\": [\n",
        "                \"I need to create a new account\",\n",
        "                \"how to open a new account\",\n",
        "                \"I want to create an account\",\n",
        "                \"can you create an account for me\",\n",
        "                \"how to open a new account\"\n",
        "            ],\n",
        "            \"responses\": [\n",
        "                \"You can just easily create a new account from our web site\",\n",
        "                \"Just go to our web site and follow the guidelines to create a new account\"\n",
        "            ]\n",
        "        },\n",
        "        {\n",
        "            \"tag\": \"complaint\",\n",
        "            \"patterns\": [\n",
        "                \"have a complaint\",\n",
        "                \"I want to raise a complaint\",\n",
        "                \"there is a complaint about a service\"\n",
        "            ],\n",
        "            \"responses\": [\n",
        "                \"Please provide us your complaint in order to assist you\",\n",
        "                \"Please mention your complaint, we will reach you and sorry for any inconvenience caused\"\n",
        "            ]\n",
        "        }\n",
        "    ]\n",
        "}"
      ],
      "metadata": {
        "id": "Q2ro4OxagM8U"
      },
      "execution_count": null,
      "outputs": []
    },
    {
      "cell_type": "code",
      "source": [
        "# extraction of the necessary data\n",
        "with open('/content/intents.json') as file:\n",
        "    data = json.load(file)\n",
        "    \n",
        "training_sentences = []\n",
        "training_labels = []\n",
        "labels = []\n",
        "responses = []\n",
        "\n",
        "for intent in data['intents']:\n",
        "    for pattern in intent['patterns']:\n",
        "        training_sentences.append(pattern)\n",
        "        training_labels.append(intent['tag'])\n",
        "    responses.append(intent['responses'])\n",
        "    \n",
        "    if intent['tag'] not in labels:\n",
        "        labels.append(intent['tag'])\n",
        "        \n",
        "num_classes = len(labels)"
      ],
      "metadata": {
        "id": "i0l-sIPYhh2W"
      },
      "execution_count": 97,
      "outputs": []
    },
    {
      "cell_type": "code",
      "source": [
        "# transformation of tags into normalized encoding\n",
        "lbl_encoder = LabelEncoder()\n",
        "lbl_encoder.fit(training_labels)\n",
        "training_labels = lbl_encoder.transform(training_labels)"
      ],
      "metadata": {
        "id": "wkJM-DOjlbd4"
      },
      "execution_count": 98,
      "outputs": []
    },
    {
      "cell_type": "code",
      "source": [
        "# text data vectorization\n",
        "# when using this class, all punctuation will be removed, transforming the texts into a sequence\n",
        "# of words separated by spaces.\n",
        "vocab_size = 1000\n",
        "embedding_dim = 16\n",
        "max_len = 20\n",
        "oov_token = \"<OOV>\"\n",
        "\n",
        "tokenizer = Tokenizer(num_words=vocab_size, oov_token=oov_token)\n",
        "tokenizer.fit_on_texts(training_sentences)\n",
        "word_index = tokenizer.word_index\n",
        "sequences = tokenizer.texts_to_sequences(training_sentences)\n",
        "padded_sequences = pad_sequences(sequences, truncating='post', maxlen=max_len)"
      ],
      "metadata": {
        "id": "TiCy1bTJqi9k"
      },
      "execution_count": 99,
      "outputs": []
    },
    {
      "cell_type": "code",
      "source": [
        "# neural network architecture using the Keras “Sequential” model.\n",
        "model = Sequential()\n",
        "model.add(Embedding(vocab_size, embedding_dim, input_length=max_len))\n",
        "model.add(GlobalAveragePooling1D())\n",
        "model.add(Dense(16, activation='relu'))\n",
        "model.add(Dense(16, activation='relu'))\n",
        "model.add(Dense(num_classes, activation='softmax'))\n",
        "\n",
        "model.compile(loss='sparse_categorical_crossentropy', \n",
        "              optimizer='adam', metrics=['accuracy'])\n",
        "\n",
        "model.summary()"
      ],
      "metadata": {
        "colab": {
          "base_uri": "https://localhost:8080/"
        },
        "id": "ypUI62_qwe5E",
        "outputId": "e0f6edce-3d66-4ff5-8b95-c127e9222cff"
      },
      "execution_count": 100,
      "outputs": [
        {
          "output_type": "stream",
          "name": "stdout",
          "text": [
            "Model: \"sequential_7\"\n",
            "_________________________________________________________________\n",
            " Layer (type)                Output Shape              Param #   \n",
            "=================================================================\n",
            " embedding_7 (Embedding)     (None, 20, 16)            16000     \n",
            "                                                                 \n",
            " global_average_pooling1d_7   (None, 16)               0         \n",
            " (GlobalAveragePooling1D)                                        \n",
            "                                                                 \n",
            " dense_21 (Dense)            (None, 16)                272       \n",
            "                                                                 \n",
            " dense_22 (Dense)            (None, 16)                272       \n",
            "                                                                 \n",
            " dense_23 (Dense)            (None, 8)                 136       \n",
            "                                                                 \n",
            "=================================================================\n",
            "Total params: 16,680\n",
            "Trainable params: 16,680\n",
            "Non-trainable params: 0\n",
            "_________________________________________________________________\n"
          ]
        }
      ]
    },
    {
      "cell_type": "code",
      "source": [
        "# neural network training\n",
        "epochs = 800\n",
        "history = model.fit(padded_sequences, np.array(training_labels), epochs=epochs)"
      ],
      "metadata": {
        "id": "Bil6JTov7ZiE"
      },
      "execution_count": null,
      "outputs": []
    },
    {
      "cell_type": "code",
      "source": [
        "# to save the trained model\n",
        "model.save(\"chat_model\")\n",
        "\n",
        "# to save the fitted tokenizer\n",
        "with open('tokenizer.pickle', 'wb') as handle:\n",
        "    pickle.dump(tokenizer, handle, protocol=pickle.HIGHEST_PROTOCOL)\n",
        "    \n",
        "# to save the fitted label encoder\n",
        "with open('label_encoder.pickle', 'wb') as ecn_file:\n",
        "    pickle.dump(lbl_encoder, ecn_file, protocol=pickle.HIGHEST_PROTOCOL)"
      ],
      "metadata": {
        "id": "yxXYg_uBww_s"
      },
      "execution_count": null,
      "outputs": []
    },
    {
      "cell_type": "code",
      "source": [
        "def chat():\n",
        "    # load trained model\n",
        "    model = keras.models.load_model('chat_model')\n",
        "\n",
        "    # load tokenizer object\n",
        "    with open('tokenizer.pickle', 'rb') as handle:\n",
        "        tokenizer = pickle.load(handle)\n",
        "\n",
        "    # load label encoder object\n",
        "    with open('label_encoder.pickle', 'rb') as enc:\n",
        "        lbl_encoder = pickle.load(enc)\n",
        "\n",
        "    # parameters\n",
        "    max_len = 20\n",
        "    \n",
        "    while True:\n",
        "        print(Fore.LIGHTBLUE_EX + \"User: \" + Style.RESET_ALL, end=\"\")\n",
        "        inp = input()\n",
        "        if inp.lower() == \"quit\":\n",
        "            break\n",
        "\n",
        "        result = model.predict(keras.preprocessing.sequence.pad_sequences(tokenizer.texts_to_sequences([inp]),\n",
        "                                             truncating='post', maxlen=max_len))\n",
        "        tag = lbl_encoder.inverse_transform([np.argmax(result)])\n",
        "\n",
        "        for i in data['intents']:\n",
        "            if i['tag'] == tag:\n",
        "                print(Fore.GREEN + \"ChatBot:\" + Style.RESET_ALL , np.random.choice(i['responses']))\n",
        "\n",
        "print(Fore.YELLOW + \"Start messaging with the bot (type quit to stop)!\" + Style.RESET_ALL)\n",
        "chat()"
      ],
      "metadata": {
        "colab": {
          "base_uri": "https://localhost:8080/"
        },
        "id": "OK6YvxZww-92",
        "outputId": "f2060f83-e23d-4ef4-dcbd-60bf5411d4fa"
      },
      "execution_count": 103,
      "outputs": [
        {
          "name": "stdout",
          "output_type": "stream",
          "text": [
            "Start messaging with the bot (type quit to stop)!\n",
            "User: hey\n",
            "1/1 [==============================] - 0s 97ms/step\n",
            "ChatBot: Hello\n",
            "User: you can help me?\n",
            "1/1 [==============================] - 0s 31ms/step\n",
            "ChatBot: Tell me your problem to assist you\n",
            "User: who your name?\n",
            "1/1 [==============================] - 0s 30ms/step\n",
            "ChatBot: You can call me Joana.\n",
            "User: thanks\n",
            "1/1 [==============================] - 0s 41ms/step\n",
            "ChatBot: Any time!\n",
            "User: quit\n"
          ]
        }
      ]
    },
    {
      "cell_type": "code",
      "source": [],
      "metadata": {
        "id": "1GiEq0XxxYB9"
      },
      "execution_count": 103,
      "outputs": []
    }
  ]
}